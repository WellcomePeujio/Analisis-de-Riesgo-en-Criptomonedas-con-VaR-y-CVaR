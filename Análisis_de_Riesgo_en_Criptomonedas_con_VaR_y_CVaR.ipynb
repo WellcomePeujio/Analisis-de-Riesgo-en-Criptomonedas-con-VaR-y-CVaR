{
  "nbformat": 4,
  "nbformat_minor": 0,
  "metadata": {
    "colab": {
      "private_outputs": true,
      "provenance": [],
      "authorship_tag": "ABX9TyOdP7V+jgBRzkO8rd46nwNk",
      "include_colab_link": true
    },
    "kernelspec": {
      "name": "python3",
      "display_name": "Python 3"
    },
    "language_info": {
      "name": "python"
    }
  },
  "cells": [
    {
      "cell_type": "markdown",
      "metadata": {
        "id": "view-in-github",
        "colab_type": "text"
      },
      "source": [
        "<a href=\"https://colab.research.google.com/github/WellcomePeujio/Analisis-de-Riesgo-en-Criptomonedas-con-VaR-y-CVaR/blob/main/An%C3%A1lisis_de_Riesgo_en_Criptomonedas_con_VaR_y_CVaR.ipynb\" target=\"_parent\"><img src=\"https://colab.research.google.com/assets/colab-badge.svg\" alt=\"Open In Colab\"/></a>"
      ]
    },
    {
      "cell_type": "markdown",
      "source": [
        "# Análisis de Riesgo en Criptomonedas con VaR y CVaR\n",
        "\n",
        "**Título**: \"¿Cuánto podrías perder en tu inversión en cripto?\"\n",
        "\n",
        "**Problema**: Un inversionista posee un portafolio de **Bitcoin** con las siguientes características:\n",
        "\n",
        "- **Volatilidad anual**: 60%  \n",
        "- **Rendimiento esperado anual**: 10%  \n",
        "- **Monto invertido**: $50,000  \n",
        "- **Nivel de confianza**: 95%  \n",
        "\n",
        "Se quiere calcular el **Valor en Riesgo (VaR)** y el **Valor en Riesgo Condicional (CVaR)** para evaluar la posible pérdida máxima en condiciones normales del mercado.\n",
        "\n",
        "**Preguntas**:\n",
        "\n",
        "1. Calcula el **VaR al 95%** usando el enfoque **paramétrico**.\n",
        "2. Calcula el **CVaR al 95%** y analiza qué tan riesgosa es la inversión.\n",
        "3. Genera una **visualización** de la distribución de rendimientos resaltando los valores de **VaR y CVaR**.\n"
      ],
      "metadata": {
        "id": "KupWHZZ3U_iv"
      }
    },
    {
      "cell_type": "markdown",
      "source": [
        "# Resolución Matemática: Análisis de Riesgo en Criptomonedas con VaR y CVaR\n",
        "\n",
        "## Paso 1: Definición del Valor en Riesgo (VaR)\n",
        "\n",
        "El **Valor en Riesgo (VaR)** mide la pérdida máxima esperada de una inversión bajo condiciones normales de mercado con un nivel de confianza dado.  \n",
        "En el **enfoque paramétrico**, se calcula con la fórmula:\n",
        "\n",
        "$$\n",
        "VaR_{\\alpha} = \\mu P - Z_{\\alpha} \\sigma P\n",
        "$$\n",
        "\n",
        "Donde:\n",
        "- $\\mu$ = **Rendimiento esperado anual** (10% o 0.10).\n",
        "- $\\sigma$ = **Volatilidad anual** (60% o 0.60).\n",
        "- $P$ = **Inversión inicial** ($50,000$).\n",
        "- $Z_{\\alpha}$ = **Cuantil de la distribución normal** para el nivel de confianza $\\alpha$ (para 95%, $Z_{0.95} = 1.645$).\n",
        "\n",
        "Sustituyendo los valores:\n",
        "\n",
        "$$\n",
        "VaR_{95\\%} = (0.10 \\times 50,000) - (1.645 \\times 0.60 \\times 50,000)\n",
        "$$\n",
        "\n",
        "$$\n",
        "VaR_{95\\%} = 5,000 - 49,350 = -44,350\n",
        "$$\n",
        "\n",
        "El VaR al 95% indica que la pérdida esperada en el peor 5% de los casos es **$44,350$**.\n",
        "\n",
        "---\n",
        "\n",
        "## Paso 2: Definición del Valor en Riesgo Condicional (CVaR)\n",
        "\n",
        "El **Valor en Riesgo Condicional (CVaR)** mide la pérdida promedio en los casos en que la pérdida excede el VaR. Se calcula como:\n",
        "\n",
        "$$\n",
        "CVaR_{\\alpha} = \\mu P - \\frac{\\phi(Z_{\\alpha})}{1 - \\alpha} \\sigma P\n",
        "$$\n",
        "\n",
        "Donde:\n",
        "- $\\phi(Z_{\\alpha})$ es la función de densidad de la normal estándar en $Z_{\\alpha}$.\n",
        "- Para **95% de confianza**, $\\phi(1.645) \\approx 0.103$.\n",
        "\n",
        "Sustituyendo valores:\n",
        "\n",
        "$$\n",
        "CVaR_{95\\%} = (0.10 \\times 50,000) - \\left( \\frac{0.103}{0.05} \\times 0.60 \\times 50,000 \\right)\n",
        "$$\n",
        "\n",
        "$$\n",
        "CVaR_{95\\%} = 5,000 - (2.06 \\times 30,000)\n",
        "$$\n",
        "\n",
        "$$\n",
        "CVaR_{95\\%} = 5,000 - 61,800 = -56,800\n",
        "$$\n",
        "\n",
        "El CVaR indica que si la pérdida excede el **VaR**, la pérdida esperada promedio es **$56,800$**.\n",
        "\n",
        "---\n",
        "\n",
        "## Paso 3: Conclusiones\n",
        "\n",
        "1. El **VaR al 95%** indica que en el **5% de los peores casos**, el inversionista puede perder hasta **$44,350$** en un año.\n",
        "2. El **CVaR al 95%** indica que si la pérdida es mayor que el VaR, la pérdida promedio esperada es **$56,800$**.\n",
        "3. La volatilidad de **60%** hace que esta inversión sea altamente riesgosa.\n",
        "4. Visualizaremos la **distribución de rendimientos**, resaltando los valores de **VaR y CVaR** en la cola izquierda de la curva de pérdidas.\n"
      ],
      "metadata": {
        "id": "i9s2_TekVYNy"
      }
    },
    {
      "cell_type": "code",
      "source": [
        "import numpy as np\n",
        "import matplotlib.pyplot as plt\n",
        "from scipy.stats import norm\n",
        "\n",
        "# Parámetros del problema\n",
        "P = 50000  # Inversión inicial\n",
        "mu = 0.10  # Rendimiento esperado anual (10%)\n",
        "sigma = 0.60  # Volatilidad anual (60%)\n",
        "alpha = 0.95  # Nivel de confianza (95%)\n",
        "Z_alpha = norm.ppf(alpha)  # Cuantil de la normal estándar para 95%\n",
        "\n",
        "# Cálculo del VaR al 95%\n",
        "VaR_95 = mu * P - Z_alpha * sigma * P\n",
        "\n",
        "# Cálculo del CVaR al 95%\n",
        "phi_Z_alpha = norm.pdf(Z_alpha)  # Densidad de la normal estándar en Z_alpha\n",
        "CVaR_95 = mu * P - (phi_Z_alpha / (1 - alpha)) * sigma * P\n",
        "\n",
        "# Simulación de rendimientos para visualizar distribución\n",
        "np.random.seed(42)\n",
        "simulaciones = 100000  # Número de simulaciones\n",
        "rendimientos_simulados = np.random.normal(mu, sigma, simulaciones)\n",
        "pérdidas_simuladas = P * rendimientos_simulados\n",
        "\n",
        "# Gráfico de distribución de pérdidas\n",
        "plt.figure(figsize=(10, 6))\n",
        "plt.hist(pérdidas_simuladas, bins=100, density=True, alpha=0.6, color=\"blue\", label=\"Distribución de pérdidas\")\n",
        "plt.axvline(VaR_95, color=\"red\", linestyle=\"--\", label=f\"VaR 95%: ${VaR_95:.2f}\")\n",
        "plt.axvline(CVaR_95, color=\"darkred\", linestyle=\"--\", label=f\"CVaR 95%: ${CVaR_95:.2f}\")\n",
        "plt.xlabel(\"Pérdida esperada ($)\")\n",
        "plt.ylabel(\"Densidad de probabilidad\")\n",
        "plt.title(\"Distribución de Pérdidas con VaR y CVaR al 95%\")\n",
        "plt.legend()\n",
        "plt.grid(True)\n",
        "plt.show()\n"
      ],
      "metadata": {
        "id": "NTnXef7LV7eB"
      },
      "execution_count": null,
      "outputs": []
    }
  ]
}